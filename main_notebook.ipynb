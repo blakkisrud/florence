{
 "cells": [
  {
   "cell_type": "code",
   "execution_count": 10,
   "metadata": {
    "collapsed": false,
    "scrolled": true
   },
   "outputs": [
    {
     "name": "stdout",
     "output_type": "stream",
     "text": [
      "Starting...\n",
      "Using matplotlib backend: Qt5Agg\n",
      "Done importing\n"
     ]
    }
   ],
   "source": [
    "print \"Starting...\"\n",
    "\n",
    "%matplotlib\n",
    "import numpy as np\n",
    "import matplotlib.pyplot as plt\n",
    "import pandas as pd\n",
    "import FlorenceUtils # Helper functions\n",
    "import scipy.io\n",
    "from itertools import product\n",
    "from matplotlib.patches import RegularPolygon\n",
    "import seaborn as sns\n",
    "\n",
    "print \"Done importing\""
   ]
  },
  {
   "cell_type": "markdown",
   "metadata": {},
   "source": [
    "TODO: Make the largest error function work\n",
    "TODO: Revert the function so tiles gets de-selected also\n",
    "TODO: General aethetics"
   ]
  },
  {
   "cell_type": "markdown",
   "metadata": {},
   "source": [
    "# NB! curves.p has the wrong curves! "
   ]
  },
  {
   "cell_type": "code",
   "execution_count": 2,
   "metadata": {
    "collapsed": false,
    "scrolled": true
   },
   "outputs": [],
   "source": [
    "\n",
    "data = FlorenceUtils.load_arm1_data(\"curves_new.p\")\n"
   ]
  },
  {
   "cell_type": "code",
   "execution_count": 3,
   "metadata": {
    "collapsed": true
   },
   "outputs": [],
   "source": [
    "def find_largest_error(data, organ, log_array):\n",
    "    \n",
    "    \"\"\"Function to return the largest array for a given organ for a \n",
    "    given set of removed time points given by the @log_array\"\"\"\n",
    "    \n",
    "    if organ == 'WB':\n",
    "        \n",
    "        do_wb = True\n",
    "        \n",
    "    else:\n",
    "        \n",
    "        do_wb = False\n",
    "    \n",
    "    for i in range(4):\n",
    "        \n",
    "        print \"got here\"\n",
    "        \n",
    "        t_vec = data['Time'][i]\n",
    "        a_vec = data[organ][i]\n",
    "        \n",
    "        print FlorenceUtils.return_diff_full_and_reduced(t_vec, a_vec, log_array, is_wb=do_wb)\n",
    "        "
   ]
  },
  {
   "cell_type": "code",
   "execution_count": 4,
   "metadata": {
    "collapsed": false
   },
   "outputs": [
    {
     "name": "stdout",
     "output_type": "stream",
     "text": [
      "[1 0 0 1 1 1]\n",
      "got here\n",
      "4\n",
      "-0.0102333778642\n",
      "got here\n",
      "4\n",
      "-0.0113828521018\n",
      "got here\n",
      "4\n",
      "-0.0107935176946\n",
      "got here\n",
      "4\n",
      "-0.00823771171141\n",
      "None\n"
     ]
    }
   ],
   "source": [
    "\n",
    "log_array = np.array([1,0,0,1,1,1])\n",
    "\n",
    "print log_array\n",
    "\n",
    "print find_largest_error(data, \"WB\", log_array)"
   ]
  },
  {
   "cell_type": "code",
   "execution_count": 5,
   "metadata": {
    "collapsed": false
   },
   "outputs": [
    {
     "name": "stdout",
     "output_type": "stream",
     "text": [
      "[0 0 0 1 1 1]\n",
      "0.000766441691321\n",
      "0.000583522722055\n",
      "5.07821221172e-05\n",
      "0.000171551196964\n",
      "[  7.66441691e-04   5.83522722e-04   5.07821221e-05   1.71551197e-04]\n",
      "0.000766441691321\n"
     ]
    }
   ],
   "source": [
    "# Test area for the lowest function\n",
    "error_vector = np.ones(4)\n",
    "cut_vec = np.array([0,1,1,1,1,1])\n",
    "\n",
    "cut_matrix = np.array(\n",
    "    [[1,1,1,1,1,1],\n",
    "    [1,1,1,1,1,1],\n",
    "    [1,1,1,1,1,1],\n",
    "    [1,1,1,1,1,1],\n",
    "    [1,1,1,1,1,1],\n",
    "    [1,1,1,1,1,1],\n",
    "    [1,1,1,1,1,1],\n",
    "    [0,0,0,1,1,1]],)\n",
    "\n",
    "i = 0\n",
    "\n",
    "print cut_matrix[-1,:]\n",
    "\n",
    "for i in range(4):\n",
    "\n",
    "    t_vec = data['Time'][i]\n",
    "    a_vec = data['Liver'][i]\n",
    "\n",
    "    error_vector[i] = FlorenceUtils.return_diff_full_and_reduced(t_vec, a_vec, cut_vec)\n",
    "    print  FlorenceUtils.return_diff_full_and_reduced(t_vec, a_vec, cut_vec)\n",
    "    \n",
    "print error_vector\n",
    "print max(np.min(error_vector), np.max(error_vector), key = abs)"
   ]
  },
  {
   "cell_type": "code",
   "execution_count": 19,
   "metadata": {
    "collapsed": false
   },
   "outputs": [],
   "source": [
    "def on_click(event):\n",
    "    \n",
    "    #print \"pressed\"\n",
    "    \n",
    "    #print len(polygons)\n",
    "        \n",
    "    if polygon_draw.contains_point((event.x, event.y)):\n",
    "        \n",
    "        # Snippet for making the aestetics of the heatmap\n",
    "        \n",
    "        ax = sns.heatmap(cut_matrix)\n",
    "    #    print \"fdsf\"\n",
    "    \n",
    "    for i in range(0, 36): # TODO: Remove magic number...\n",
    "                \n",
    "        curr_pol = polygons[i]\n",
    "                \n",
    "        if curr_pol.contains_point((event.x, event.y)):\n",
    "            \n",
    "            curr_pol.set_facecolor('#404040')\n",
    "                \n",
    "            curr_pol_ind = poly_inds[i]\n",
    "            \n",
    "            logical_back[curr_pol_ind[1], curr_pol_ind[0]] = 1\n",
    "            \n",
    "            #print logical_back\n",
    "              \n",
    "            \n",
    "                \n",
    "                \n",
    "    fig.canvas.draw()"
   ]
  },
  {
   "cell_type": "code",
   "execution_count": 20,
   "metadata": {
    "collapsed": false
   },
   "outputs": [],
   "source": [
    "# Now comes the hard part, making the GUI quick, fast and simple for use...\n",
    "\n",
    "size_factor_x = 20\n",
    "size_factor_y = 20\n",
    "\n",
    "num_row = 6\n",
    "num_cols = 6\n",
    "\n",
    "fig = plt.figure(figsize = ((size_factor_y + 2) / 4., (size_factor_x + 2) / 3.))\n",
    "\n",
    "ax = fig.add_axes((0.05, 0.05, 0.9, 0.9), aspect = 'equal', frameon = False,\n",
    "    xlim = (-0.05, size_factor_y + 0.05),\n",
    "    ylim = (-0.05, size_factor_x + 0.05))\n",
    "\n",
    "for axies in (ax.xaxis, ax.yaxis):\n",
    "\n",
    "    axies.set_major_formatter(plt.NullFormatter())\n",
    "    axies.set_major_formatter(plt.NullFormatter())\n",
    "    \n",
    "\n",
    "polygon_draw = plt.Polygon([[15,7], [15,11], [17,11], [17,7],[15,7]], closed = True, fc = '#202020')\n",
    "\n",
    "polygon_draw.set_picker(True)\n",
    "\n",
    "ax.add_patch(polygon_draw)\n",
    "\n",
    "x_0 = 2\n",
    "y_0 = 7\n",
    "L = 2 \n",
    "S = 2\n",
    "\n",
    "x_ind = 0\n",
    "y_ind = 0\n",
    "\n",
    "polygons = []\n",
    "poly_inds = []\n",
    "\n",
    "glob_time = ['2 h', '4 h', '8 h', '24 h', '96 h', '168 h']\n",
    "\n",
    "for i in range(0,num_cols):\n",
    "    \n",
    "    for j in range(0, num_row):\n",
    "\n",
    "        polygon_1 = plt.Polygon([[x_0, y_0],\n",
    "                [x_0,y_0 + L],\n",
    "                [x_0 + L,y_0 + L],\n",
    "                [x_0 + L,y_0], \n",
    "                [x_0,y_0]], \n",
    "                fc = 'white',\n",
    "                ec = 'black')\n",
    "\n",
    "        y_0 = y_0 + S\n",
    "\n",
    "        ax.add_patch(polygon_1)\n",
    "        polygons.append(polygon_1)\n",
    "\n",
    "        poly_ind = (x_ind, y_ind)\n",
    "\n",
    "        poly_inds.append(poly_ind)\n",
    "\n",
    "        y_ind = y_ind + 1\n",
    "\n",
    "    x_ind = x_ind + 1\n",
    "\n",
    "    y_0 = 7\n",
    "    y_ind = 0\n",
    "    x_0 = x_0 + S\n",
    "\n",
    "text_hrs_space = 1.8\n",
    "\n",
    "for num_time in range(0, len(glob_time)):\n",
    "\n",
    "    ax.text(2.7 + num_time*text_hrs_space,num_row*3.2 + 0.2, glob_time[num_time])\n",
    "\n",
    "logical_back = np.zeros([num_row, num_cols])\n",
    "\n",
    "foo = fig.canvas.mpl_connect('button_press_event', on_click)\n",
    "\n",
    "#plt.show()\n",
    "#plt.ion()"
   ]
  },
  {
   "cell_type": "code",
   "execution_count": null,
   "metadata": {
    "collapsed": false
   },
   "outputs": [],
   "source": [
    "plt.clf"
   ]
  }
 ],
 "metadata": {
  "anaconda-cloud": {},
  "kernelspec": {
   "display_name": "Python [conda root]",
   "language": "python",
   "name": "conda-root-py"
  },
  "language_info": {
   "codemirror_mode": {
    "name": "ipython",
    "version": 2
   },
   "file_extension": ".py",
   "mimetype": "text/x-python",
   "name": "python",
   "nbconvert_exporter": "python",
   "pygments_lexer": "ipython2",
   "version": "2.7.12"
  }
 },
 "nbformat": 4,
 "nbformat_minor": 1
}
